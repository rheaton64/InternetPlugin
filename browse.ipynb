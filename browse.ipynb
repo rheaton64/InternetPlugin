{
 "cells": [
  {
   "cell_type": "code",
   "execution_count": 1,
   "metadata": {},
   "outputs": [],
   "source": [
    "from langchain.agents.agent_toolkits import PlayWrightBrowserToolkit\n",
    "from langchain.tools.playwright.utils import create_async_playwright_browser\n",
    "# This import is required only for jupyter notebooks, since they have their own eventloop\n",
    "import nest_asyncio\n",
    "nest_asyncio.apply()"
   ]
  },
  {
   "cell_type": "code",
   "execution_count": 2,
   "metadata": {},
   "outputs": [
    {
     "data": {
      "text/plain": [
       "[ClickTool(name='click_element', description='Click on an element with the given CSS selector', args_schema=<class 'langchain.tools.playwright.click.ClickToolInput'>, return_direct=False, verbose=False, callbacks=None, callback_manager=None, sync_browser=None, async_browser=<Browser type=<BrowserType name=chromium executable_path=/home/rheaton64/.cache/ms-playwright/chromium-1060/chrome-linux/chrome> version=113.0.5672.53>),\n",
       " NavigateTool(name='navigate_browser', description='Navigate a browser to the specified URL', args_schema=<class 'langchain.tools.playwright.navigate.NavigateToolInput'>, return_direct=False, verbose=False, callbacks=None, callback_manager=None, sync_browser=None, async_browser=<Browser type=<BrowserType name=chromium executable_path=/home/rheaton64/.cache/ms-playwright/chromium-1060/chrome-linux/chrome> version=113.0.5672.53>),\n",
       " NavigateBackTool(name='previous_webpage', description='Navigate back to the previous page in the browser history', args_schema=<class 'pydantic.main.BaseModel'>, return_direct=False, verbose=False, callbacks=None, callback_manager=None, sync_browser=None, async_browser=<Browser type=<BrowserType name=chromium executable_path=/home/rheaton64/.cache/ms-playwright/chromium-1060/chrome-linux/chrome> version=113.0.5672.53>),\n",
       " ExtractTextTool(name='extract_text', description='Extract all the text on the current webpage', args_schema=<class 'pydantic.main.BaseModel'>, return_direct=False, verbose=False, callbacks=None, callback_manager=None, sync_browser=None, async_browser=<Browser type=<BrowserType name=chromium executable_path=/home/rheaton64/.cache/ms-playwright/chromium-1060/chrome-linux/chrome> version=113.0.5672.53>),\n",
       " ExtractHyperlinksTool(name='extract_hyperlinks', description='Extract all hyperlinks on the current webpage', args_schema=<class 'langchain.tools.playwright.extract_hyperlinks.ExtractHyperlinksToolInput'>, return_direct=False, verbose=False, callbacks=None, callback_manager=None, sync_browser=None, async_browser=<Browser type=<BrowserType name=chromium executable_path=/home/rheaton64/.cache/ms-playwright/chromium-1060/chrome-linux/chrome> version=113.0.5672.53>),\n",
       " GetElementsTool(name='get_elements', description='Retrieve elements in the current web page matching the given CSS selector', args_schema=<class 'langchain.tools.playwright.get_elements.GetElementsToolInput'>, return_direct=False, verbose=False, callbacks=None, callback_manager=None, sync_browser=None, async_browser=<Browser type=<BrowserType name=chromium executable_path=/home/rheaton64/.cache/ms-playwright/chromium-1060/chrome-linux/chrome> version=113.0.5672.53>),\n",
       " CurrentWebPageTool(name='current_webpage', description='Returns the URL of the current page', args_schema=<class 'pydantic.main.BaseModel'>, return_direct=False, verbose=False, callbacks=None, callback_manager=None, sync_browser=None, async_browser=<Browser type=<BrowserType name=chromium executable_path=/home/rheaton64/.cache/ms-playwright/chromium-1060/chrome-linux/chrome> version=113.0.5672.53>)]"
      ]
     },
     "execution_count": 2,
     "metadata": {},
     "output_type": "execute_result"
    }
   ],
   "source": [
    "async_browser = create_async_playwright_browser()\n",
    "toolkit = PlayWrightBrowserToolkit.from_browser(async_browser=async_browser)\n",
    "tools = toolkit.get_tools()\n",
    "tools"
   ]
  },
  {
   "cell_type": "code",
   "execution_count": 5,
   "metadata": {},
   "outputs": [
    {
     "name": "stdout",
     "output_type": "stream",
     "text": [
      "click_element\n",
      "====================\n",
      "Click on an element with the given CSS selector\n",
      "====================\n",
      "{'selector': {'title': 'Selector', 'description': 'CSS selector for the element to click', 'type': 'string'}}\n",
      "\n",
      "\n",
      "\n",
      "navigate_browser\n",
      "====================\n",
      "Navigate a browser to the specified URL\n",
      "====================\n",
      "{'url': {'title': 'Url', 'description': 'url to navigate to', 'type': 'string'}}\n",
      "\n",
      "\n",
      "\n",
      "previous_webpage\n",
      "====================\n",
      "Navigate back to the previous page in the browser history\n",
      "====================\n",
      "{}\n",
      "\n",
      "\n",
      "\n",
      "extract_text\n",
      "====================\n",
      "Extract all the text on the current webpage\n",
      "====================\n",
      "{}\n",
      "\n",
      "\n",
      "\n",
      "extract_hyperlinks\n",
      "====================\n",
      "Extract all hyperlinks on the current webpage\n",
      "====================\n",
      "{'absolute_urls': {'title': 'Absolute Urls', 'description': 'Return absolute URLs instead of relative URLs', 'default': False, 'type': 'boolean'}}\n",
      "\n",
      "\n",
      "\n",
      "get_elements\n",
      "====================\n",
      "Retrieve elements in the current web page matching the given CSS selector\n",
      "====================\n",
      "{'selector': {'title': 'Selector', 'description': \"CSS selector, such as '*', 'div', 'p', 'a', #id, .classname\", 'type': 'string'}, 'attributes': {'title': 'Attributes', 'description': 'Set of attributes to retrieve for each element', 'type': 'array', 'items': {'type': 'string'}}}\n",
      "\n",
      "\n",
      "\n",
      "current_webpage\n",
      "====================\n",
      "Returns the URL of the current page\n",
      "====================\n",
      "{}\n",
      "\n",
      "\n",
      "\n"
     ]
    }
   ],
   "source": [
    "for tool in tools:\n",
    "    print(tool.name)\n",
    "    print('====================')\n",
    "    print(tool.description)\n",
    "    print('====================')\n",
    "    print(tool.args)\n",
    "    print('\\n\\n')"
   ]
  },
  {
   "cell_type": "code",
   "execution_count": null,
   "metadata": {},
   "outputs": [],
   "source": []
  }
 ],
 "metadata": {
  "kernelspec": {
   "display_name": ".venv",
   "language": "python",
   "name": "python3"
  },
  "language_info": {
   "codemirror_mode": {
    "name": "ipython",
    "version": 3
   },
   "file_extension": ".py",
   "mimetype": "text/x-python",
   "name": "python",
   "nbconvert_exporter": "python",
   "pygments_lexer": "ipython3",
   "version": "3.11.3"
  },
  "orig_nbformat": 4
 },
 "nbformat": 4,
 "nbformat_minor": 2
}
